{
 "cells": [
  {
   "cell_type": "markdown",
   "metadata": {},
   "source": [
    "# Synthetic Data Experiments"
   ]
  },
  {
   "cell_type": "code",
   "execution_count": null,
   "metadata": {
    "scrolled": false
   },
   "outputs": [],
   "source": [
    "import pickle as pkl\n",
    "import pandas as pd\n",
    "\n",
    "import numpy as np\n",
    "import matplotlib.pyplot as plt\n",
    "import matplotlib\n",
    "matplotlib.use('module://ipykernel.pylab.backend_inline')\n",
    "\n",
    "import seaborn as sns\n",
    "import torch\n",
    "\n",
    "import NESDE_SDE\n",
    "import lstm_SDE\n",
    "from NESDE import general_utils as utils\n",
    "\n",
    "from IPython.core.display import display, HTML\n",
    "display(HTML(\"<style>.container { width:95% !important; }</style>\"))\n",
    "display(HTML(\"<style>.output_result { max-width:90% !important; }</style>\"))\n",
    "np.set_printoptions(precision=3)\n",
    "np.set_printoptions(linewidth=150)\n",
    "np.set_printoptions(suppress=True)\n",
    "torch.set_printoptions(linewidth=150)\n",
    "device = 'cuda'"
   ]
  },
  {
   "cell_type": "code",
   "execution_count": null,
   "metadata": {},
   "outputs": [],
   "source": [
    "import os\n",
    "res_dirs = ['results_NESDE', 'results_LSTM']\n",
    "for rdir in res_dirs:\n",
    "    try:\n",
    "        os.mkdir(rdir)\n",
    "    except:\n",
    "        print(\"Directory '\" + rdir + \"' exists!\" )"
   ]
  },
  {
   "cell_type": "code",
   "execution_count": null,
   "metadata": {},
   "outputs": [],
   "source": [
    "def add_disc_time(df, time_col):\n",
    "    time_arr = df[time_col].to_numpy()\n",
    "    start_ids = (time_arr[1:] - time_arr[:-1]) < 0\n",
    "    ttmp = np.zeros(len(df),dtype=bool)\n",
    "    ttmp[0] = True\n",
    "    ttmp[1:] = start_ids\n",
    "    start_ids = np.arange(len(ttmp))[ttmp]\n",
    "    time_diffs = []\n",
    "    n_smps = []\n",
    "    for i in range(len(start_ids)):\n",
    "        last_time = df[time_col][start_ids[i]]\n",
    "        time_diffs.append(last_time)\n",
    "        n_smps.append(1)\n",
    "        for j, ctime in enumerate(df[time_col][start_ids[i]+1:len(df) if i == len(start_ids) - 1 else start_ids[i+1]]):\n",
    "            time_diffs.append(ctime - last_time)\n",
    "            last_time = ctime\n",
    "            n_smps.append(n_smps[-1]+1)\n",
    "    \n",
    "    time_diffs = np.array(time_diffs)\n",
    "    n_smps = np.array(n_smps)\n",
    "    df['time_diff'] = time_diffs\n",
    "    df['time_diff'].loc[df['time_diff'] < 0] = df[time_col].loc[df['time_diff'] < 0]\n",
    "    df['n_smps'] = n_smps\n",
    "    return df\n",
    "\n",
    "def calc_smp_mean(df, target_col, name):\n",
    "    targets = []\n",
    "    nsps = []\n",
    "    for n_smp in range(1,int(df['n_smps'].max())+1):\n",
    "        if any(df['n_smps'] == n_smp):\n",
    "            targets.append(df[df['n_smps'] == n_smp][target_col].mean())\n",
    "            nsps.append(n_smp)\n",
    "    return pd.DataFrame({'model':name,'n_smps':np.array(nsps),target_col:np.array(targets)})"
   ]
  },
  {
   "cell_type": "markdown",
   "metadata": {},
   "source": [
    "## Out-of-Distribution Experiments"
   ]
  },
  {
   "cell_type": "markdown",
   "metadata": {},
   "source": [
    "### Complex"
   ]
  },
  {
   "cell_type": "code",
   "execution_count": null,
   "metadata": {},
   "outputs": [],
   "source": [
    "# TRAIN\n",
    "do_train = True\n",
    "n_seeds = 5\n",
    "n_train = [1000]\n",
    "ts = [int(0.8*n) for n in n_train][0]\n",
    "vs = [int(0.2*n) for n in n_train][0]\n",
    "\n",
    "n_epochs_max = 800\n",
    "\n",
    "# TEST\n",
    "n_test = N_TEST = 1000\n",
    "data_path = \"./Data/SDE_ood_complex\"\n",
    "out_prefix = 'ood_complex'"
   ]
  },
  {
   "cell_type": "markdown",
   "metadata": {},
   "source": [
    "Train NESDE"
   ]
  },
  {
   "cell_type": "code",
   "execution_count": null,
   "metadata": {
    "scrolled": true
   },
   "outputs": [],
   "source": [
    "%%time\n",
    "res_per_t_ood_nesde, res_per_t_nesde = NESDE_SDE.run_multi_experiments(\n",
    "    n_seeds, train_size=ts, valid_size=vs, test_size=n_test, train_by_nll=True, valid_by_nll=True, \n",
    "    stationary_model=True, n_epochs=n_epochs_max, patience=60, batch_size=20, gamma=1, lr=3e-3,\n",
    "    device=device, sep_datasets=True, data_path=data_path, outs_path=\"./results_NESDE/\" + out_prefix + \"_\", \n",
    "    ood_test=True, random_samples=3, log_rate=10, do_train=do_train, complex=True, skip_first=True)"
   ]
  },
  {
   "cell_type": "markdown",
   "metadata": {},
   "source": [
    "Train LSTM"
   ]
  },
  {
   "cell_type": "code",
   "execution_count": null,
   "metadata": {
    "scrolled": true
   },
   "outputs": [],
   "source": [
    "%%time\n",
    "res_per_t_ood_lstm, res_per_t_lstm = lstm_SDE.run_multi_experiments(\n",
    "    n_seeds, train_size=ts, valid_size=vs, test_size=n_test, train_by_nll=False, valid_by_nll=False, \n",
    "    n_epochs=n_epochs_max, patience=60, batch_size=50, gamma=1, lr=3e-3, device=device, sep_datasets=True, \n",
    "    data_path=data_path, outs_path=\"./results_LSTM/\" + out_prefix + \"_\", ood_test=True, random_samples=5, \n",
    "    log_rate=10, do_train=do_train, skip_first=True)"
   ]
  },
  {
   "cell_type": "markdown",
   "metadata": {},
   "source": [
    "Process Results"
   ]
  },
  {
   "cell_type": "code",
   "execution_count": null,
   "metadata": {},
   "outputs": [],
   "source": [
    "lstm = []\n",
    "nesde = []\n",
    "lstm_ood = []\n",
    "nesde_ood = []\n",
    "for i in range(n_seeds):\n",
    "    lstm.append(add_disc_time(pd.read_csv('results_LSTM/' + out_prefix +'_table_res_per_t_exp' + str(i) + '.csv'),'time'))\n",
    "    lstm_ood.append(add_disc_time(pd.read_csv('results_LSTM/' + out_prefix + '_table_res_per_t_ood_exp' + str(i) + '.csv'),'ood_time'))\n",
    "    nesde.append(add_disc_time(pd.read_csv('results_NESDE/' + out_prefix + '_table_res_per_t_exp' + str(i) + '.csv'),'time'))\n",
    "    nesde_ood.append(add_disc_time(pd.read_csv('results_NESDE/' + out_prefix + '_table_res_per_t_ood_exp' + str(i) + '.csv'),'ood_time'))\n",
    "\n",
    "res_l = []\n",
    "res_ood_l = []\n",
    "for i in range(n_seeds):\n",
    "    res_l.append(calc_smp_mean(nesde[i],'MSE','NESDE'))\n",
    "    res_ood_l.append(calc_smp_mean(nesde_ood[i],'OOD_MSE','NESDE'))\n",
    "    res_l.append(calc_smp_mean(lstm[i],'MSE','LSTM'))\n",
    "    res_ood_l.append(calc_smp_mean(lstm_ood[i],'OOD_MSE','LSTM'))\n",
    "res = pd.concat(res_l)\n",
    "ood_res = pd.concat(res_ood_l)"
   ]
  },
  {
   "cell_type": "markdown",
   "metadata": {},
   "source": [
    "Plots"
   ]
  },
  {
   "cell_type": "code",
   "execution_count": null,
   "metadata": {},
   "outputs": [],
   "source": [
    "# Regular test\n",
    "res_per_t = res.copy()\n",
    "res_per_t = res_per_t.reset_index()\n",
    "res_per_t = res_per_t.drop(['index'],axis=1)\n",
    "\n",
    "\n",
    "axs = utils.Axes(1,1,(3.8,3),fontsize=15)\n",
    "a = 0\n",
    "\n",
    "axs[a].tick_params(axis='x', labelsize=13)\n",
    "axs[a].tick_params(axis='y', labelsize=13)\n",
    "sns.lineplot(data=res_per_t, hue='model', x='n_smps', y='MSE', markers=True, dashes=False, style='model', ax=axs[a])\n",
    "axs.labs(a, 'Observation within trajectory', 'MSE')\n",
    "axs[a].set_yscale('log')\n",
    "\n",
    "axs[a].legend(fontsize=14)\n",
    "\n",
    "axxx = np.array([0.2,0.3,0.4,0.5])\n",
    "axs[a].set_yticks(axxx)\n",
    "\n",
    "axs[a].set_yticklabels([(f'{np.round(i,1):.1f}' if np.round(i,1) in (0.2,0.3,0.4,0.5) else None) for i in axxx], fontsize=13)\n",
    "\n",
    "\n",
    "plt.tight_layout();"
   ]
  },
  {
   "cell_type": "code",
   "execution_count": null,
   "metadata": {},
   "outputs": [],
   "source": [
    "# OOD test\n",
    "res_per_t = ood_res.copy()\n",
    "res_per_t = res_per_t.reset_index()\n",
    "res_per_t = res_per_t.drop(['index'],axis=1)\n",
    "\n",
    "axs = utils.Axes(1,1,(3.8,3),fontsize=15)\n",
    "a = 0\n",
    "\n",
    "axs[a].tick_params(axis='x', labelsize=13)\n",
    "axs[a].tick_params(axis='y', labelsize=13)\n",
    "sns.lineplot(data=res_per_t, hue='model', x='n_smps', y='OOD_MSE', markers=True, dashes=False, style='model', ax=axs[a])\n",
    "axs.labs(a, 'Observation within trajectory', 'MSE')\n",
    "axs[a].set_yscale('log')\n",
    "\n",
    "axs[a].legend(fontsize=14)\n",
    "\n",
    "axxx = np.arange(0.2,2.81,0.2)\n",
    "axs[a].set_yticks(axxx)\n",
    "\n",
    "axs[a].set_yticklabels([(f'{np.round(i,1):.1f}' if np.round(i,1) in (0.2,0.4,0.8,1.6,2.8) else None) for i in axxx], fontsize=13)\n",
    "a += 1\n",
    "\n",
    "plt.tight_layout();"
   ]
  },
  {
   "cell_type": "markdown",
   "metadata": {},
   "source": [
    "### Real"
   ]
  },
  {
   "cell_type": "code",
   "execution_count": null,
   "metadata": {},
   "outputs": [],
   "source": [
    "# TRAIN\n",
    "do_train = True\n",
    "n_seeds = 5\n",
    "n_train = [1000]\n",
    "ts = [int(0.8*n) for n in n_train][0]\n",
    "vs = [int(0.2*n) for n in n_train][0]\n",
    "n_epochs_max = 800\n",
    "\n",
    "# TEST\n",
    "n_test = N_TEST = 1000\n",
    "data_path = \"./Data/SDE_ood_real\"\n",
    "out_prefix = 'ood_real'"
   ]
  },
  {
   "cell_type": "markdown",
   "metadata": {},
   "source": [
    "Train NESDE"
   ]
  },
  {
   "cell_type": "code",
   "execution_count": null,
   "metadata": {
    "scrolled": true
   },
   "outputs": [],
   "source": [
    "%%time\n",
    "res_per_t_ood_nesde, res_per_t_nesde = NESDE_SDE.run_multi_experiments(\n",
    "    n_seeds, train_size=ts, valid_size=vs, test_size=n_test, train_by_nll=True, valid_by_nll=True, \n",
    "    stationary_model=True, n_epochs=n_epochs_max, patience=60, batch_size=20, gamma=1, lr=3e-3,\n",
    "    device=device, sep_datasets=True, data_path=data_path, outs_path=\"./results_NESDE/\" + out_prefix + \"_\", \n",
    "    ood_test=True, random_samples=5, log_rate=10, do_train=do_train, complex=False, skip_first=True)"
   ]
  },
  {
   "cell_type": "markdown",
   "metadata": {},
   "source": [
    "Train LSTM"
   ]
  },
  {
   "cell_type": "code",
   "execution_count": null,
   "metadata": {
    "scrolled": true
   },
   "outputs": [],
   "source": [
    "%%time\n",
    "res_per_t_ood_lstm, res_per_t_lstm = lstm_SDE.run_multi_experiments(\n",
    "    n_seeds, train_size=ts, valid_size=vs, test_size=n_test, train_by_nll=False, valid_by_nll=False, \n",
    "    n_epochs=n_epochs_max, patience=60, batch_size=50, gamma=1, lr=3e-3, device=device, sep_datasets=True, \n",
    "    data_path=data_path, outs_path=\"./results_LSTM/\" + out_prefix + \"_\", ood_test=True, random_samples=5, \n",
    "    log_rate=10, do_train=do_train, skip_first=True)"
   ]
  },
  {
   "cell_type": "markdown",
   "metadata": {},
   "source": [
    "Process Results"
   ]
  },
  {
   "cell_type": "code",
   "execution_count": null,
   "metadata": {},
   "outputs": [],
   "source": [
    "lstm = []\n",
    "nesde = []\n",
    "lstm_ood = []\n",
    "nesde_ood = []\n",
    "for i in range(n_seeds):\n",
    "    lstm.append(add_disc_time(pd.read_csv('results_LSTM/' + out_prefix +'_table_res_per_t_exp' + str(i) + '.csv'),'time'))\n",
    "    lstm_ood.append(add_disc_time(pd.read_csv('results_LSTM/' + out_prefix + '_table_res_per_t_ood_exp' + str(i) + '.csv'),'ood_time'))\n",
    "    nesde.append(add_disc_time(pd.read_csv('results_NESDE/' + out_prefix + '_table_res_per_t_exp' + str(i) + '.csv'),'time'))\n",
    "    nesde_ood.append(add_disc_time(pd.read_csv('results_NESDE/' + out_prefix + '_table_res_per_t_ood_exp' + str(i) + '.csv'),'ood_time'))\n",
    "\n",
    "res_l = []\n",
    "res_ood_l = []\n",
    "for i in range(n_seeds):\n",
    "    res_l.append(calc_smp_mean(nesde[i],'MSE','NESDE'))\n",
    "    res_ood_l.append(calc_smp_mean(nesde_ood[i],'OOD_MSE','NESDE'))\n",
    "    res_l.append(calc_smp_mean(lstm[i],'MSE','LSTM'))\n",
    "    res_ood_l.append(calc_smp_mean(lstm_ood[i],'OOD_MSE','LSTM'))\n",
    "res = pd.concat(res_l)\n",
    "ood_res = pd.concat(res_ood_l)"
   ]
  },
  {
   "cell_type": "markdown",
   "metadata": {},
   "source": [
    "Plots"
   ]
  },
  {
   "cell_type": "code",
   "execution_count": null,
   "metadata": {},
   "outputs": [],
   "source": [
    "# Regular test\n",
    "res_per_t = res.copy()\n",
    "res_per_t = res_per_t.reset_index()\n",
    "res_per_t = res_per_t.drop(['index'],axis=1)\n",
    "\n",
    "\n",
    "axs = utils.Axes(1,1,(3.8,3),fontsize=15)\n",
    "a = 0\n",
    "\n",
    "axs[a].tick_params(axis='x', labelsize=13)\n",
    "axs[a].tick_params(axis='y', labelsize=13)\n",
    "sns.lineplot(data=res_per_t, hue='model', x='n_smps', y='MSE', markers=True, dashes=False, style='model', ax=axs[a])\n",
    "axs.labs(a, 'Observation within trajectory', 'MSE')\n",
    "axs[a].set_yscale('log')\n",
    "\n",
    "axs[a].legend(fontsize=14)\n",
    "\n",
    "axxx = np.array([0.2,0.3,0.4,0.5])\n",
    "axs[a].set_yticks(axxx)\n",
    "\n",
    "axs[a].set_yticklabels([(f'{np.round(i,1):.1f}' if np.round(i,1) in (0.2,0.3,0.4,0.5) else None) for i in axxx], fontsize=13)\n",
    "\n",
    "\n",
    "plt.tight_layout();"
   ]
  },
  {
   "cell_type": "code",
   "execution_count": null,
   "metadata": {},
   "outputs": [],
   "source": [
    "# OOD test\n",
    "res_per_t = ood_res.copy()\n",
    "res_per_t = res_per_t.reset_index()\n",
    "res_per_t = res_per_t.drop(['index'],axis=1)\n",
    "\n",
    "axs = utils.Axes(1,1,(3.8,3),fontsize=15)\n",
    "a = 0\n",
    "\n",
    "axs[a].tick_params(axis='x', labelsize=13)\n",
    "axs[a].tick_params(axis='y', labelsize=13)\n",
    "sns.lineplot(data=res_per_t, hue='model', x='n_smps', y='OOD_MSE', markers=True, dashes=False, style='model', ax=axs[a])\n",
    "axs.labs(a, 'Observation within trajectory', 'MSE')\n",
    "axs[a].set_yscale('log')\n",
    "\n",
    "axs[a].legend(fontsize=14)\n",
    "\n",
    "axxx = np.arange(0.2,2.81,0.2)\n",
    "axs[a].set_yticks(axxx)\n",
    "\n",
    "axs[a].set_yticklabels([(f'{np.round(i,1):.1f}' if np.round(i,1) in (0.2,0.4,0.8,1.6,2.8) else None) for i in axxx], fontsize=13)\n",
    "a += 1\n",
    "\n",
    "plt.tight_layout();"
   ]
  },
  {
   "cell_type": "markdown",
   "metadata": {},
   "source": [
    "## Data Efficiency Experiment"
   ]
  },
  {
   "cell_type": "markdown",
   "metadata": {},
   "source": [
    "### Complex"
   ]
  },
  {
   "cell_type": "code",
   "execution_count": null,
   "metadata": {},
   "outputs": [],
   "source": [
    "# TRAIN\n",
    "do_train = True\n",
    "n_seeds = 1\n",
    "n_train = [100, 200, 400, 800]\n",
    "\n",
    "n_epochs_max = 800\n",
    "\n",
    "# TEST\n",
    "n_test = N_TEST = 1000\n",
    "data_path = \"./Data/SDE_efficiency_complex\"\n",
    "out_prefix = 'efficiency_complex'"
   ]
  },
  {
   "cell_type": "markdown",
   "metadata": {},
   "source": [
    "Train NESDE"
   ]
  },
  {
   "cell_type": "code",
   "execution_count": null,
   "metadata": {
    "scrolled": true
   },
   "outputs": [],
   "source": [
    "%%time\n",
    "res_per_t_nesde = {}\n",
    "for tsize in n_train:\n",
    "    print(\"Data size: \", tsize)\n",
    "    ts = int(0.8*tsize)\n",
    "    vs = int(0.2*tsize)\n",
    "    _, res_ = NESDE_SDE.run_multi_experiments(\n",
    "    n_seeds, train_size=ts, valid_size=vs, test_size=n_test, train_by_nll=True, valid_by_nll=True, stationary_model=True,\n",
    "    n_epochs=n_epochs_max, patience=100, batch_size=20, gamma=1, lr=3e-3,\n",
    "    device=device, sep_datasets=False,\n",
    "    data_path=data_path + \"_\" + str(tsize),\n",
    "    outs_path=\"./results_NESDE/\" + out_prefix + \"_\" + str(tsize) + \"_\",\n",
    "    ood_test=False, random_samples=3, log_rate=10, do_train=do_train, complex=True)\n",
    "    res_per_t_nesde[str(tsize)] = res_"
   ]
  },
  {
   "cell_type": "markdown",
   "metadata": {},
   "source": [
    "Train LSTM"
   ]
  },
  {
   "cell_type": "code",
   "execution_count": null,
   "metadata": {
    "scrolled": true
   },
   "outputs": [],
   "source": [
    "%%time\n",
    "res_per_t_lstm = {}\n",
    "for tsize in n_train:\n",
    "    print(\"Data size: \", tsize)\n",
    "    ts = int(0.8*tsize)\n",
    "    vs = int(0.2*tsize)\n",
    "    _, res_ = lstm_SDE.run_multi_experiments(\n",
    "    n_seeds, train_size=ts, valid_size=vs, test_size=n_test, train_by_nll=False, valid_by_nll=False, \n",
    "    n_epochs=n_epochs_max, patience=100, batch_size=50 if tsize > 400 else 20, gamma=1, lr=3e-3, \n",
    "    device=device, sep_datasets=False, data_path=data_path + \"_\" + str(tsize), \n",
    "    outs_path=\"./results_LSTM/\" + out_prefix + \"_\" + str(tsize) + \"_\", ood_test=False,\n",
    "    random_samples=5, log_rate=10, do_train=do_train)\n",
    "    res_per_t_lstm[str(tsize)] = res_"
   ]
  },
  {
   "cell_type": "markdown",
   "metadata": {},
   "source": [
    "Process Results"
   ]
  },
  {
   "cell_type": "code",
   "execution_count": null,
   "metadata": {},
   "outputs": [],
   "source": [
    "lstm = []\n",
    "nesde = []\n",
    "for tsize in n_train:\n",
    "    lstm.append(pd.read_csv('results_LSTM/' + out_prefix + '_' + str(tsize) + '_table_res_per_t_exp0.csv'))\n",
    "    nesde.append(pd.read_csv('results_NESDE/' + out_prefix + '_' + str(tsize) + '_table_res_per_t_exp0.csv'))\n",
    "\n",
    "\n",
    "res_per_t_nesde = pd.DataFrame()\n",
    "res_per_t_lstm = pd.DataFrame()\n",
    "for i, tsize in enumerate(n_train):\n",
    "    res_per_t_nesde = res_per_t_nesde.append(pd.DataFrame(dict(model='NESDE', MSE=nesde[i]['MSE'], NLL=nesde[i]['NLL'], nsmp=tsize)))\n",
    "    res_per_t_lstm = res_per_t_lstm.append(pd.DataFrame(dict(model='LSTM', MSE=lstm[i]['MSE'], NLL=lstm[i]['NLL'], nsmp=tsize)))\n",
    "\n",
    "df = pd.concat((res_per_t_nesde,res_per_t_lstm))\n",
    "df = df.reset_index()\n",
    "df = df.drop(['index'],axis=1)\n",
    " "
   ]
  },
  {
   "cell_type": "markdown",
   "metadata": {},
   "source": [
    "Plots"
   ]
  },
  {
   "cell_type": "code",
   "execution_count": null,
   "metadata": {},
   "outputs": [],
   "source": [
    "res_per_t = df.copy()\n",
    "\n",
    "axs = utils.Axes(1,1,(3.8,3),fontsize=15)\n",
    "a = 0\n",
    "\n",
    "axs[a].tick_params(axis='x', labelsize=13)\n",
    "axs[a].tick_params(axis='y', labelsize=13)\n",
    "sns.lineplot(data=res_per_t, hue='model', x='nsmp', y='MSE', markers=True, dashes=False, style='model', ax=axs[a])\n",
    "\n",
    "axs.labs(a, 'Train size', 'MSE')\n",
    "\n",
    "axs[a].legend(fontsize=14)\n",
    "\n",
    "axs[a].set_yscale('log')\n",
    "\n",
    "axxx = np.arange(0.2,2.,0.2)\n",
    "axs[a].set_yticks(axxx)\n",
    "\n",
    "axs[a].set_yticklabels([(f'{np.round(i,1):.1f}' if np.round(i,1) in (0.2,0.4,0.8,1.6) else None) for i in axxx], fontsize=13)\n",
    "plt.minorticks_off()\n",
    "plt.tight_layout();"
   ]
  },
  {
   "cell_type": "markdown",
   "metadata": {},
   "source": [
    "### Real"
   ]
  },
  {
   "cell_type": "code",
   "execution_count": null,
   "metadata": {},
   "outputs": [],
   "source": [
    "# TRAIN\n",
    "do_train = True\n",
    "n_seeds = 1\n",
    "n_train = [100, 200, 400, 800]\n",
    "\n",
    "n_epochs_max = 800\n",
    "\n",
    "# TEST\n",
    "n_test = N_TEST = 1000\n",
    "data_path = \"./Data/SDE_efficiency_real\"\n",
    "out_prefix = 'efficiency_real'"
   ]
  },
  {
   "cell_type": "markdown",
   "metadata": {},
   "source": [
    "Train NESDE"
   ]
  },
  {
   "cell_type": "code",
   "execution_count": null,
   "metadata": {
    "scrolled": true
   },
   "outputs": [],
   "source": [
    "%%time\n",
    "res_per_t_nesde = {}\n",
    "for tsize in n_train:\n",
    "    print(\"Data size: \", tsize)\n",
    "    ts = int(0.8*tsize)\n",
    "    vs = int(0.2*tsize)\n",
    "    _, res_ = NESDE_SDE.run_multi_experiments(\n",
    "    n_seeds, train_size=ts, valid_size=vs, test_size=n_test, train_by_nll=True, valid_by_nll=True, stationary_model=True,\n",
    "    n_epochs=n_epochs_max, patience=100, batch_size=20, gamma=1, lr=3e-3,\n",
    "    device=device, sep_datasets=False,\n",
    "    data_path=data_path + \"_\" + str(tsize),\n",
    "    outs_path=\"./results_NESDE/\" + out_prefix + \"_\" + str(tsize) + \"_\",\n",
    "    ood_test=False, random_samples=5, log_rate=10, do_train=do_train, complex=False)\n",
    "    res_per_t_nesde[str(tsize)] = res_"
   ]
  },
  {
   "cell_type": "markdown",
   "metadata": {},
   "source": [
    "Train LSTM"
   ]
  },
  {
   "cell_type": "code",
   "execution_count": null,
   "metadata": {
    "scrolled": true
   },
   "outputs": [],
   "source": [
    "%%time\n",
    "res_per_t_lstm = {}\n",
    "for tsize in n_train:\n",
    "    print(\"Data size: \", tsize)\n",
    "    ts = int(0.8*tsize)\n",
    "    vs = int(0.2*tsize)\n",
    "    _, res_ = lstm_SDE.run_multi_experiments(\n",
    "    n_seeds, train_size=ts, valid_size=vs, test_size=n_test, train_by_nll=False, valid_by_nll=False, \n",
    "    n_epochs=n_epochs_max, patience=100, batch_size=50 if tsize > 400 else 20, gamma=1, lr=3e-3, \n",
    "    device=device, sep_datasets=False, data_path=data_path + \"_\" + str(tsize), \n",
    "    outs_path=\"./results_LSTM/\" + out_prefix + \"_\" + str(tsize) + \"_\", ood_test=False,\n",
    "    random_samples=5, log_rate=10, do_train=do_train)\n",
    "    res_per_t_lstm[str(tsize)] = res_"
   ]
  },
  {
   "cell_type": "markdown",
   "metadata": {},
   "source": [
    "Process Results"
   ]
  },
  {
   "cell_type": "code",
   "execution_count": null,
   "metadata": {},
   "outputs": [],
   "source": [
    "lstm = []\n",
    "nesde = []\n",
    "for tsize in n_train:\n",
    "    lstm.append(pd.read_csv('results_LSTM/' + out_prefix + '_' + str(tsize) + '_table_res_per_t_exp0.csv'))\n",
    "    nesde.append(pd.read_csv('results_NESDE/' + out_prefix + '_' + str(tsize) + '_table_res_per_t_exp0.csv'))\n",
    "\n",
    "\n",
    "res_per_t_nesde = pd.DataFrame()\n",
    "res_per_t_lstm = pd.DataFrame()\n",
    "for i, tsize in enumerate(n_train):\n",
    "    res_per_t_nesde = res_per_t_nesde.append(pd.DataFrame(dict(model='NESDE', MSE=nesde[i]['MSE'], NLL=nesde[i]['NLL'], nsmp=tsize)))\n",
    "    res_per_t_lstm = res_per_t_lstm.append(pd.DataFrame(dict(model='LSTM', MSE=lstm[i]['MSE'], NLL=lstm[i]['NLL'], nsmp=tsize)))\n",
    "\n",
    "df = pd.concat((res_per_t_nesde,res_per_t_lstm))\n",
    "df = df.reset_index()\n",
    "df = df.drop(['index'],axis=1)\n",
    " "
   ]
  },
  {
   "cell_type": "markdown",
   "metadata": {},
   "source": [
    "Plots"
   ]
  },
  {
   "cell_type": "code",
   "execution_count": null,
   "metadata": {},
   "outputs": [],
   "source": [
    "res_per_t = df.copy()\n",
    "axs = utils.Axes(1,1,(3.8,3),fontsize=15)\n",
    "a = 0\n",
    "\n",
    "axs[a].tick_params(axis='x', labelsize=13)\n",
    "axs[a].tick_params(axis='y', labelsize=13)\n",
    "sns.lineplot(data=res_per_t, hue='model', x='nsmp', y='MSE', markers=True, dashes=False, style='model', ax=axs[a])\n",
    "axs.labs(a, 'Train size', 'MSE')\n",
    "axs[a].set_yscale('log')\n",
    "axs[a].legend(fontsize=14)\n",
    "axxx = np.array([0.4,0.8,1.6])\n",
    "axs[a].set_yticks(axxx)\n",
    "\n",
    "axs[a].set_yticklabels([(f'{np.round(i,1):.1f}' if np.round(i,1) in (0.4,0.8,1.6) else None) for i in axxx], fontsize=13)\n",
    "plt.minorticks_off()\n",
    "a += 1\n",
    "\n",
    "plt.tight_layout();"
   ]
  },
  {
   "cell_type": "markdown",
   "metadata": {},
   "source": [
    "## Regular Observations Experiment"
   ]
  },
  {
   "cell_type": "markdown",
   "metadata": {},
   "source": [
    "### Complex"
   ]
  },
  {
   "cell_type": "code",
   "execution_count": null,
   "metadata": {},
   "outputs": [],
   "source": [
    "# TRAIN\n",
    "do_train = True\n",
    "n_seeds = 1\n",
    "n_train = [1000]\n",
    "ts = [int(0.8*n) for n in n_train][0]\n",
    "vs = [int(0.2*n) for n in n_train][0]\n",
    "\n",
    "n_epochs_max = 800\n",
    "\n",
    "# TEST\n",
    "n_test = N_TEST = 1000\n",
    "data_path = \"./Data/SDE_regular_complex\"\n",
    "out_prefix = 'regular_complex'"
   ]
  },
  {
   "cell_type": "markdown",
   "metadata": {},
   "source": [
    "Train NESDE"
   ]
  },
  {
   "cell_type": "code",
   "execution_count": null,
   "metadata": {
    "scrolled": true
   },
   "outputs": [],
   "source": [
    "%%time\n",
    "res_per_t_ood_nesde, res_per_t_nesde = NESDE_SDE.run_multi_experiments(\n",
    "    n_seeds, train_size=ts, valid_size=vs, test_size=n_test, train_by_nll=True, valid_by_nll=True, \n",
    "    stationary_model=True, n_epochs=n_epochs_max, patience=60, batch_size=20, gamma=1, lr=3e-3,\n",
    "    device=device, sep_datasets=False, data_path=data_path, outs_path=\"./results_NESDE/\" + out_prefix + \"_\", \n",
    "    ood_test=True, random_samples=3, log_rate=10, do_train=do_train, complex=True, skip_first=True)"
   ]
  },
  {
   "cell_type": "markdown",
   "metadata": {},
   "source": [
    "Train LSTMs"
   ]
  },
  {
   "cell_type": "code",
   "execution_count": null,
   "metadata": {
    "scrolled": true
   },
   "outputs": [],
   "source": [
    "%%time\n",
    "\n",
    "res_per_t_ood_lstm, res_per_t_lstm = pd.DataFrame(), pd.DataFrame()\n",
    "for sparsity in (1,8,50):\n",
    "    dt = 100 // sparsity\n",
    "\n",
    "    res_ood_, res_ = NESDE_SDE.run_multi_experiments(\n",
    "        len(n_train), train_size=ts, valid_size=vs, test_size=n_test, const_steps_res=dt, lstm=True,\n",
    "        n_epochs=n_epochs_max, patience=100, batch_size=20, gamma=1, lr=3e-3,\n",
    "        device=device, sep_datasets=False,\n",
    "        data_path=data_path,\n",
    "        outs_path=\"./results_LSTM/\" + out_prefix + f\"_sp{sparsity:d}_\",\n",
    "        ood_test=True, do_train=do_train)\n",
    "    \n",
    "    res_ood_['model'] = f'LSTM (1:{sparsity})'\n",
    "    res_['model'] = f'LSTM (1:{sparsity})'\n",
    "    res_per_t_ood_lstm = pd.concat((res_per_t_ood_lstm, res_ood_))\n",
    "    res_per_t_lstm = pd.concat((res_per_t_lstm, res_))"
   ]
  },
  {
   "cell_type": "markdown",
   "metadata": {},
   "source": [
    "Process Results"
   ]
  },
  {
   "cell_type": "code",
   "execution_count": null,
   "metadata": {},
   "outputs": [],
   "source": [
    "res_per_t_nesde['model'] = 'NESDE'\n",
    "res_per_t_ood_nesde['model'] = 'NESDE'\n",
    "\n",
    "\n",
    "res_per_t = pd.concat((res_per_t_nesde,res_per_t_lstm))\n",
    "res_per_t_ood = pd.concat((res_per_t_ood_nesde,res_per_t_ood_lstm))\n",
    "\n",
    "\n",
    "res_per_t = res_per_t.reset_index()\n",
    "res_per_t = res_per_t.drop(['index'],axis=1)\n",
    "res_per_t_ood = res_per_t_ood.reset_index()\n",
    "res_per_t_ood = res_per_t_ood.drop(['index'],axis=1)"
   ]
  },
  {
   "cell_type": "markdown",
   "metadata": {},
   "source": [
    "Plots"
   ]
  },
  {
   "cell_type": "code",
   "execution_count": null,
   "metadata": {},
   "outputs": [],
   "source": [
    "# Regular test\n",
    "\n",
    "axs = utils.Axes(1,1,(6,5),fontsize=18)\n",
    "a = 0\n",
    "\n",
    "axs[a].tick_params(axis='x', labelsize=18)\n",
    "axs[a].tick_params(axis='y', labelsize=18)\n",
    "sns.lineplot(data=res_per_t, hue='model', x='time', y='MSE', markers=True, dashes=False, style='model', ax=axs[a])\n",
    "axs.labs(a, 'time', 'MSE')\n",
    "axs[a].set_yscale('log')\n",
    "axs[a].set_xlim((1,10))\n",
    "axs[a].set_ylim((0.13,1.15))\n",
    "axs[a].legend(fontsize=17)\n",
    "axs[a].set_yticks(np.arange(0.2,1.2,0.1))\n",
    "axs[a].set_yticklabels([(f'{np.round(i,1):.1f}' if np.round(i,1) in (0.2,0.4,0.6,1.0) else None) for i in np.arange(0.2,1.2,0.1)], fontsize=18)\n",
    "a += 1\n",
    "\n",
    "plt.tight_layout();"
   ]
  },
  {
   "cell_type": "code",
   "execution_count": null,
   "metadata": {},
   "outputs": [],
   "source": [
    "# OOD test\n",
    "\n",
    "axs = utils.Axes(1,1,(6,5),fontsize=18)\n",
    "a = 0\n",
    "\n",
    "axs[a].tick_params(axis='x', labelsize=18)\n",
    "axs[a].tick_params(axis='y', labelsize=18)\n",
    "sns.lineplot(data=res_per_t_ood, hue='model', x='ood_time', y='OOD_MSE', markers=True, dashes=False, style='model', ax=axs[a])\n",
    "axs.labs(a, 'time', 'MSE')\n",
    "axs[a].set_yscale('log')\n",
    "axs[a].set_xlim((1,10))\n",
    "axs[a].set_ylim((0.14,2.4))\n",
    "axs[a].legend(fontsize=17)\n",
    "axs[a].set_yticks(np.arange(0.2,2.2,0.1))\n",
    "axs[a].set_yticklabels([(f'{np.round(i,1):.1f}' if np.round(i,1) in (0.2,0.4,0.6,1.0,2.0) else None) for i in np.arange(0.2,2.2,0.1)], fontsize=18)\n",
    "a += 1\n",
    "\n",
    "plt.tight_layout();"
   ]
  }
 ],
 "metadata": {
  "kernelspec": {
   "display_name": "Python 3 (ipykernel)",
   "language": "python",
   "name": "python3"
  },
  "language_info": {
   "codemirror_mode": {
    "name": "ipython",
    "version": 3
   },
   "file_extension": ".py",
   "mimetype": "text/x-python",
   "name": "python",
   "nbconvert_exporter": "python",
   "pygments_lexer": "ipython3",
   "version": "3.7.16"
  }
 },
 "nbformat": 4,
 "nbformat_minor": 4
}
